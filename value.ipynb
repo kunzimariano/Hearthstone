{
 "cells": [
  {
   "cell_type": "code",
   "execution_count": 2,
   "metadata": {
    "collapsed": false
   },
   "outputs": [
    {
     "name": "stdout",
     "output_type": "stream",
     "text": [
      "dict_keys(['Credits', 'Promo', 'Whispers of the Old Gods', 'Reward', 'Missions', 'Goblins vs Gnomes', 'Classic', 'Karazhan', 'The League of Explorers', 'Tavern Brawl', 'Basic', 'Naxxramas', 'The Grand Tournament', 'Hero Skins', 'Blackrock Mountain', 'System', 'Debug'])\n"
     ]
    }
   ],
   "source": [
    "import json\n",
    "import numpy as np\n",
    "from pprint import pprint\n",
    "\n",
    "with open('cards.json') as data:\n",
    "    cards = json.load(data)\n",
    "\n",
    "pprint(cards.keys())\n",
    "#pprint(cards['Whispers of the Old Gods'])"
   ]
  },
  {
   "cell_type": "code",
   "execution_count": 1,
   "metadata": {
    "collapsed": true
   },
   "outputs": [],
   "source": []
  },
  {
   "cell_type": "code",
   "execution_count": null,
   "metadata": {
    "collapsed": true
   },
   "outputs": [],
   "source": []
  }
 ],
 "metadata": {
  "kernelspec": {
   "display_name": "Python 3",
   "language": "python",
   "name": "python3"
  },
  "language_info": {
   "codemirror_mode": {
    "name": "ipython",
    "version": 3
   },
   "file_extension": ".py",
   "mimetype": "text/x-python",
   "name": "python",
   "nbconvert_exporter": "python",
   "pygments_lexer": "ipython3",
   "version": "3.5.1"
  }
 },
 "nbformat": 4,
 "nbformat_minor": 0
}
