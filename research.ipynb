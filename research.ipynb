{
 "cells": [
  {
   "cell_type": "code",
   "execution_count": 1,
   "metadata": {},
   "outputs": [
    {
     "data": {
      "text/html": [
       "<div>\n",
       "<style scoped>\n",
       "    .dataframe tbody tr th:only-of-type {\n",
       "        vertical-align: middle;\n",
       "    }\n",
       "\n",
       "    .dataframe tbody tr th {\n",
       "        vertical-align: top;\n",
       "    }\n",
       "\n",
       "    .dataframe thead th {\n",
       "        text-align: right;\n",
       "    }\n",
       "</style>\n",
       "<table border=\"1\" class=\"dataframe\">\n",
       "  <thead>\n",
       "    <tr style=\"text-align: right;\">\n",
       "      <th></th>\n",
       "      <th>armor</th>\n",
       "      <th>artist</th>\n",
       "      <th>attack</th>\n",
       "      <th>cardId</th>\n",
       "      <th>cardSet</th>\n",
       "      <th>collectible</th>\n",
       "      <th>cost</th>\n",
       "      <th>dbfId</th>\n",
       "      <th>durability</th>\n",
       "      <th>elite</th>\n",
       "      <th>...</th>\n",
       "      <th>img</th>\n",
       "      <th>imgGold</th>\n",
       "      <th>locale</th>\n",
       "      <th>mechanics</th>\n",
       "      <th>name</th>\n",
       "      <th>playerClass</th>\n",
       "      <th>race</th>\n",
       "      <th>rarity</th>\n",
       "      <th>text</th>\n",
       "      <th>type</th>\n",
       "    </tr>\n",
       "  </thead>\n",
       "  <tbody>\n",
       "    <tr>\n",
       "      <th>3073</th>\n",
       "      <td>NaN</td>\n",
       "      <td>James Ryman</td>\n",
       "      <td>7.0</td>\n",
       "      <td>TRL_542</td>\n",
       "      <td>Rastakhan's Rumble</td>\n",
       "      <td>True</td>\n",
       "      <td>9.0</td>\n",
       "      <td>50459</td>\n",
       "      <td>NaN</td>\n",
       "      <td>True</td>\n",
       "      <td>...</td>\n",
       "      <td>http://media.services.zam.com/v1/media/byName/...</td>\n",
       "      <td>http://media.services.zam.com/v1/media/byName/...</td>\n",
       "      <td>enUS</td>\n",
       "      <td>[{'name': 'Rush'}, {'name': 'Overkill'}]</td>\n",
       "      <td>Oondasta</td>\n",
       "      <td>Neutral</td>\n",
       "      <td>Beast</td>\n",
       "      <td>Legendary</td>\n",
       "      <td>&lt;b&gt;Rush&lt;/b&gt;\\n&lt;b&gt;Overkill:&lt;/b&gt; Summon a Beast f...</td>\n",
       "      <td>Minion</td>\n",
       "    </tr>\n",
       "    <tr>\n",
       "      <th>3074</th>\n",
       "      <td>NaN</td>\n",
       "      <td>Izzy Hoover</td>\n",
       "      <td>9.0</td>\n",
       "      <td>TRL_541</td>\n",
       "      <td>Rastakhan's Rumble</td>\n",
       "      <td>True</td>\n",
       "      <td>10.0</td>\n",
       "      <td>50454</td>\n",
       "      <td>NaN</td>\n",
       "      <td>True</td>\n",
       "      <td>...</td>\n",
       "      <td>http://media.services.zam.com/v1/media/byName/...</td>\n",
       "      <td>http://media.services.zam.com/v1/media/byName/...</td>\n",
       "      <td>enUS</td>\n",
       "      <td>[{'name': 'Deathrattle'}]</td>\n",
       "      <td>Hakkar, the Soulflayer</td>\n",
       "      <td>Neutral</td>\n",
       "      <td>NaN</td>\n",
       "      <td>Legendary</td>\n",
       "      <td>&lt;b&gt;Deathrattle:&lt;/b&gt; Shuffle a Corrupted Blood ...</td>\n",
       "      <td>Minion</td>\n",
       "    </tr>\n",
       "    <tr>\n",
       "      <th>3075</th>\n",
       "      <td>5</td>\n",
       "      <td>Alex Horley Orlandelli</td>\n",
       "      <td>NaN</td>\n",
       "      <td>TRL_065</td>\n",
       "      <td>Rastakhan's Rumble</td>\n",
       "      <td>True</td>\n",
       "      <td>10.0</td>\n",
       "      <td>49819</td>\n",
       "      <td>NaN</td>\n",
       "      <td>True</td>\n",
       "      <td>...</td>\n",
       "      <td>http://media.services.zam.com/v1/media/byName/...</td>\n",
       "      <td>http://media.services.zam.com/v1/media/byName/...</td>\n",
       "      <td>enUS</td>\n",
       "      <td>[{'name': 'Battlecry'}]</td>\n",
       "      <td>Zul'jin</td>\n",
       "      <td>Hunter</td>\n",
       "      <td>NaN</td>\n",
       "      <td>Legendary</td>\n",
       "      <td>[x]&lt;b&gt;Battlecry:&lt;/b&gt; Cast all spells\\nyou've p...</td>\n",
       "      <td>Hero</td>\n",
       "    </tr>\n",
       "    <tr>\n",
       "      <th>3076</th>\n",
       "      <td>NaN</td>\n",
       "      <td>Dave Allsop</td>\n",
       "      <td>7.0</td>\n",
       "      <td>TRL_408</td>\n",
       "      <td>Rastakhan's Rumble</td>\n",
       "      <td>True</td>\n",
       "      <td>12.0</td>\n",
       "      <td>50539</td>\n",
       "      <td>NaN</td>\n",
       "      <td>NaN</td>\n",
       "      <td>...</td>\n",
       "      <td>http://media.services.zam.com/v1/media/byName/...</td>\n",
       "      <td>http://media.services.zam.com/v1/media/byName/...</td>\n",
       "      <td>enUS</td>\n",
       "      <td>[{'name': 'Taunt'}]</td>\n",
       "      <td>Grave Horror</td>\n",
       "      <td>Priest</td>\n",
       "      <td>NaN</td>\n",
       "      <td>Rare</td>\n",
       "      <td>[x]&lt;b&gt;Taunt&lt;/b&gt;\\nCosts (1) less for each spell...</td>\n",
       "      <td>Minion</td>\n",
       "    </tr>\n",
       "    <tr>\n",
       "      <th>3077</th>\n",
       "      <td>NaN</td>\n",
       "      <td>Arthur Gimaldinov</td>\n",
       "      <td>7.0</td>\n",
       "      <td>TRL_300</td>\n",
       "      <td>Rastakhan's Rumble</td>\n",
       "      <td>True</td>\n",
       "      <td>25.0</td>\n",
       "      <td>49981</td>\n",
       "      <td>NaN</td>\n",
       "      <td>True</td>\n",
       "      <td>...</td>\n",
       "      <td>http://media.services.zam.com/v1/media/byName/...</td>\n",
       "      <td>http://media.services.zam.com/v1/media/byName/...</td>\n",
       "      <td>enUS</td>\n",
       "      <td>[{'name': 'Divine Shield'}, {'name': 'Rush'}, ...</td>\n",
       "      <td>Shirvallah, the Tiger</td>\n",
       "      <td>Paladin</td>\n",
       "      <td>Beast</td>\n",
       "      <td>Legendary</td>\n",
       "      <td>[x]&lt;b&gt;Divine Shield&lt;/b&gt;, &lt;b&gt;Rush&lt;/b&gt;, &lt;b&gt;Lifes...</td>\n",
       "      <td>Minion</td>\n",
       "    </tr>\n",
       "  </tbody>\n",
       "</table>\n",
       "<p>5 rows × 25 columns</p>\n",
       "</div>"
      ],
      "text/plain": [
       "     armor                  artist  attack   cardId             cardSet  \\\n",
       "3073   NaN             James Ryman     7.0  TRL_542  Rastakhan's Rumble   \n",
       "3074   NaN             Izzy Hoover     9.0  TRL_541  Rastakhan's Rumble   \n",
       "3075     5  Alex Horley Orlandelli     NaN  TRL_065  Rastakhan's Rumble   \n",
       "3076   NaN             Dave Allsop     7.0  TRL_408  Rastakhan's Rumble   \n",
       "3077   NaN       Arthur Gimaldinov     7.0  TRL_300  Rastakhan's Rumble   \n",
       "\n",
       "     collectible  cost  dbfId  durability elite  ...  \\\n",
       "3073        True   9.0  50459         NaN  True  ...   \n",
       "3074        True  10.0  50454         NaN  True  ...   \n",
       "3075        True  10.0  49819         NaN  True  ...   \n",
       "3076        True  12.0  50539         NaN   NaN  ...   \n",
       "3077        True  25.0  49981         NaN  True  ...   \n",
       "\n",
       "                                                    img  \\\n",
       "3073  http://media.services.zam.com/v1/media/byName/...   \n",
       "3074  http://media.services.zam.com/v1/media/byName/...   \n",
       "3075  http://media.services.zam.com/v1/media/byName/...   \n",
       "3076  http://media.services.zam.com/v1/media/byName/...   \n",
       "3077  http://media.services.zam.com/v1/media/byName/...   \n",
       "\n",
       "                                                imgGold  locale  \\\n",
       "3073  http://media.services.zam.com/v1/media/byName/...    enUS   \n",
       "3074  http://media.services.zam.com/v1/media/byName/...    enUS   \n",
       "3075  http://media.services.zam.com/v1/media/byName/...    enUS   \n",
       "3076  http://media.services.zam.com/v1/media/byName/...    enUS   \n",
       "3077  http://media.services.zam.com/v1/media/byName/...    enUS   \n",
       "\n",
       "                                              mechanics  \\\n",
       "3073           [{'name': 'Rush'}, {'name': 'Overkill'}]   \n",
       "3074                          [{'name': 'Deathrattle'}]   \n",
       "3075                            [{'name': 'Battlecry'}]   \n",
       "3076                                [{'name': 'Taunt'}]   \n",
       "3077  [{'name': 'Divine Shield'}, {'name': 'Rush'}, ...   \n",
       "\n",
       "                        name playerClass   race     rarity  \\\n",
       "3073                Oondasta     Neutral  Beast  Legendary   \n",
       "3074  Hakkar, the Soulflayer     Neutral    NaN  Legendary   \n",
       "3075                 Zul'jin      Hunter    NaN  Legendary   \n",
       "3076            Grave Horror      Priest    NaN       Rare   \n",
       "3077   Shirvallah, the Tiger     Paladin  Beast  Legendary   \n",
       "\n",
       "                                                   text    type  \n",
       "3073  <b>Rush</b>\\n<b>Overkill:</b> Summon a Beast f...  Minion  \n",
       "3074  <b>Deathrattle:</b> Shuffle a Corrupted Blood ...  Minion  \n",
       "3075  [x]<b>Battlecry:</b> Cast all spells\\nyou've p...    Hero  \n",
       "3076  [x]<b>Taunt</b>\\nCosts (1) less for each spell...  Minion  \n",
       "3077  [x]<b>Divine Shield</b>, <b>Rush</b>, <b>Lifes...  Minion  \n",
       "\n",
       "[5 rows x 25 columns]"
      ]
     },
     "execution_count": 1,
     "metadata": {},
     "output_type": "execute_result"
    }
   ],
   "source": [
    "import pandas as pd\n",
    "import json\n",
    "from pprint import pprint\n",
    "import matplotlib.pyplot as plt\n",
    "%run 'helper.py'\n",
    "\n",
    "plt.close('all')\n",
    "\n",
    "all = read_all_cards()\n",
    "standard = read_standard_cards()\n",
    "std = pd.DataFrame(standard)\n",
    "\n",
    "std.tail(5)"
   ]
  },
  {
   "cell_type": "code",
   "execution_count": 2,
   "metadata": {},
   "outputs": [
    {
     "data": {
      "text/plain": [
       "Index(['armor', 'artist', 'attack', 'cardId', 'cardSet', 'collectible', 'cost',\n",
       "       'dbfId', 'durability', 'elite', 'faction', 'flavor', 'health',\n",
       "       'howToGet', 'howToGetGold', 'img', 'imgGold', 'locale', 'mechanics',\n",
       "       'name', 'playerClass', 'race', 'rarity', 'text', 'type'],\n",
       "      dtype='object')"
      ]
     },
     "execution_count": 2,
     "metadata": {},
     "output_type": "execute_result"
    }
   ],
   "source": [
    "# std.shape\n",
    "std.columns"
   ]
  },
  {
   "cell_type": "code",
   "execution_count": 3,
   "metadata": {},
   "outputs": [
    {
     "data": {
      "text/html": [
       "<div>\n",
       "<style scoped>\n",
       "    .dataframe tbody tr th:only-of-type {\n",
       "        vertical-align: middle;\n",
       "    }\n",
       "\n",
       "    .dataframe tbody tr th {\n",
       "        vertical-align: top;\n",
       "    }\n",
       "\n",
       "    .dataframe thead th {\n",
       "        text-align: right;\n",
       "    }\n",
       "</style>\n",
       "<table border=\"1\" class=\"dataframe\">\n",
       "  <thead>\n",
       "    <tr style=\"text-align: right;\">\n",
       "      <th></th>\n",
       "      <th>attack</th>\n",
       "      <th>cost</th>\n",
       "      <th>durability</th>\n",
       "      <th>health</th>\n",
       "    </tr>\n",
       "  </thead>\n",
       "  <tbody>\n",
       "    <tr>\n",
       "      <th>count</th>\n",
       "      <td>1275.000000</td>\n",
       "      <td>2396.00000</td>\n",
       "      <td>129.000000</td>\n",
       "      <td>1420.000000</td>\n",
       "    </tr>\n",
       "    <tr>\n",
       "      <th>mean</th>\n",
       "      <td>2.800000</td>\n",
       "      <td>2.81803</td>\n",
       "      <td>1.821705</td>\n",
       "      <td>7.272535</td>\n",
       "    </tr>\n",
       "    <tr>\n",
       "      <th>std</th>\n",
       "      <td>2.403229</td>\n",
       "      <td>2.46467</td>\n",
       "      <td>1.889319</td>\n",
       "      <td>11.564981</td>\n",
       "    </tr>\n",
       "    <tr>\n",
       "      <th>min</th>\n",
       "      <td>0.000000</td>\n",
       "      <td>0.00000</td>\n",
       "      <td>0.000000</td>\n",
       "      <td>0.000000</td>\n",
       "    </tr>\n",
       "    <tr>\n",
       "      <th>25%</th>\n",
       "      <td>1.000000</td>\n",
       "      <td>1.00000</td>\n",
       "      <td>0.000000</td>\n",
       "      <td>2.000000</td>\n",
       "    </tr>\n",
       "    <tr>\n",
       "      <th>50%</th>\n",
       "      <td>2.000000</td>\n",
       "      <td>2.00000</td>\n",
       "      <td>2.000000</td>\n",
       "      <td>4.000000</td>\n",
       "    </tr>\n",
       "    <tr>\n",
       "      <th>75%</th>\n",
       "      <td>4.000000</td>\n",
       "      <td>4.00000</td>\n",
       "      <td>3.000000</td>\n",
       "      <td>6.000000</td>\n",
       "    </tr>\n",
       "    <tr>\n",
       "      <th>max</th>\n",
       "      <td>30.000000</td>\n",
       "      <td>25.00000</td>\n",
       "      <td>8.000000</td>\n",
       "      <td>100.000000</td>\n",
       "    </tr>\n",
       "  </tbody>\n",
       "</table>\n",
       "</div>"
      ],
      "text/plain": [
       "            attack        cost  durability       health\n",
       "count  1275.000000  2396.00000  129.000000  1420.000000\n",
       "mean      2.800000     2.81803    1.821705     7.272535\n",
       "std       2.403229     2.46467    1.889319    11.564981\n",
       "min       0.000000     0.00000    0.000000     0.000000\n",
       "25%       1.000000     1.00000    0.000000     2.000000\n",
       "50%       2.000000     2.00000    2.000000     4.000000\n",
       "75%       4.000000     4.00000    3.000000     6.000000\n",
       "max      30.000000    25.00000    8.000000   100.000000"
      ]
     },
     "execution_count": 3,
     "metadata": {},
     "output_type": "execute_result"
    }
   ],
   "source": [
    "std.describe()"
   ]
  },
  {
   "cell_type": "code",
   "execution_count": 4,
   "metadata": {},
   "outputs": [
    {
     "data": {
      "text/plain": [
       "array(['Neutral', 'Shaman', 'Priest', 'Paladin', 'Warrior', 'Hunter',\n",
       "       'Druid', 'Warlock', 'Mage', 'Rogue', 'Dream', 'Death Knight',\n",
       "       'Whizbang', nan], dtype=object)"
      ]
     },
     "execution_count": 4,
     "metadata": {},
     "output_type": "execute_result"
    }
   ],
   "source": [
    "std['playerClass'].unique()\n"
   ]
  },
  {
   "cell_type": "code",
   "execution_count": 5,
   "metadata": {},
   "outputs": [
    {
     "data": {
      "text/html": [
       "<div>\n",
       "<style scoped>\n",
       "    .dataframe tbody tr th:only-of-type {\n",
       "        vertical-align: middle;\n",
       "    }\n",
       "\n",
       "    .dataframe tbody tr th {\n",
       "        vertical-align: top;\n",
       "    }\n",
       "\n",
       "    .dataframe thead th {\n",
       "        text-align: right;\n",
       "    }\n",
       "</style>\n",
       "<table border=\"1\" class=\"dataframe\">\n",
       "  <thead>\n",
       "    <tr style=\"text-align: right;\">\n",
       "      <th></th>\n",
       "      <th>attack</th>\n",
       "      <th>cost</th>\n",
       "      <th>durability</th>\n",
       "      <th>health</th>\n",
       "    </tr>\n",
       "  </thead>\n",
       "  <tbody>\n",
       "    <tr>\n",
       "      <th>count</th>\n",
       "      <td>57.000000</td>\n",
       "      <td>147.000000</td>\n",
       "      <td>4.00</td>\n",
       "      <td>70.000000</td>\n",
       "    </tr>\n",
       "    <tr>\n",
       "      <th>mean</th>\n",
       "      <td>2.701754</td>\n",
       "      <td>2.585034</td>\n",
       "      <td>0.75</td>\n",
       "      <td>8.685714</td>\n",
       "    </tr>\n",
       "    <tr>\n",
       "      <th>std</th>\n",
       "      <td>2.043849</td>\n",
       "      <td>2.465775</td>\n",
       "      <td>1.50</td>\n",
       "      <td>12.590015</td>\n",
       "    </tr>\n",
       "    <tr>\n",
       "      <th>min</th>\n",
       "      <td>0.000000</td>\n",
       "      <td>0.000000</td>\n",
       "      <td>0.00</td>\n",
       "      <td>0.000000</td>\n",
       "    </tr>\n",
       "    <tr>\n",
       "      <th>25%</th>\n",
       "      <td>1.000000</td>\n",
       "      <td>0.000000</td>\n",
       "      <td>0.00</td>\n",
       "      <td>3.000000</td>\n",
       "    </tr>\n",
       "    <tr>\n",
       "      <th>50%</th>\n",
       "      <td>3.000000</td>\n",
       "      <td>2.000000</td>\n",
       "      <td>0.00</td>\n",
       "      <td>4.000000</td>\n",
       "    </tr>\n",
       "    <tr>\n",
       "      <th>75%</th>\n",
       "      <td>4.000000</td>\n",
       "      <td>4.000000</td>\n",
       "      <td>0.75</td>\n",
       "      <td>6.750000</td>\n",
       "    </tr>\n",
       "    <tr>\n",
       "      <th>max</th>\n",
       "      <td>10.000000</td>\n",
       "      <td>10.000000</td>\n",
       "      <td>3.00</td>\n",
       "      <td>60.000000</td>\n",
       "    </tr>\n",
       "  </tbody>\n",
       "</table>\n",
       "</div>"
      ],
      "text/plain": [
       "          attack        cost  durability     health\n",
       "count  57.000000  147.000000        4.00  70.000000\n",
       "mean    2.701754    2.585034        0.75   8.685714\n",
       "std     2.043849    2.465775        1.50  12.590015\n",
       "min     0.000000    0.000000        0.00   0.000000\n",
       "25%     1.000000    0.000000        0.00   3.000000\n",
       "50%     3.000000    2.000000        0.00   4.000000\n",
       "75%     4.000000    4.000000        0.75   6.750000\n",
       "max    10.000000   10.000000        3.00  60.000000"
      ]
     },
     "execution_count": 5,
     "metadata": {},
     "output_type": "execute_result"
    }
   ],
   "source": [
    "mage = std[std.playerClass == 'Mage']\n",
    "mage.describe()"
   ]
  },
  {
   "cell_type": "code",
   "execution_count": 6,
   "metadata": {},
   "outputs": [
    {
     "data": {
      "text/plain": [
       "array(['Hero', 'Enchantment', 'Minion', 'Spell', 'Hero Power', 'Weapon'],\n",
       "      dtype=object)"
      ]
     },
     "execution_count": 6,
     "metadata": {},
     "output_type": "execute_result"
    }
   ],
   "source": [
    "mage.type.unique()"
   ]
  },
  {
   "cell_type": "code",
   "execution_count": 7,
   "metadata": {},
   "outputs": [
    {
     "data": {
      "text/html": [
       "<div>\n",
       "<style scoped>\n",
       "    .dataframe tbody tr th:only-of-type {\n",
       "        vertical-align: middle;\n",
       "    }\n",
       "\n",
       "    .dataframe tbody tr th {\n",
       "        vertical-align: top;\n",
       "    }\n",
       "\n",
       "    .dataframe thead th {\n",
       "        text-align: right;\n",
       "    }\n",
       "</style>\n",
       "<table border=\"1\" class=\"dataframe\">\n",
       "  <thead>\n",
       "    <tr style=\"text-align: right;\">\n",
       "      <th></th>\n",
       "      <th>attack</th>\n",
       "      <th>health</th>\n",
       "      <th>cost</th>\n",
       "    </tr>\n",
       "  </thead>\n",
       "  <tbody>\n",
       "    <tr>\n",
       "      <th>count</th>\n",
       "      <td>50.00000</td>\n",
       "      <td>54.000000</td>\n",
       "      <td>51.000000</td>\n",
       "    </tr>\n",
       "    <tr>\n",
       "      <th>mean</th>\n",
       "      <td>3.08000</td>\n",
       "      <td>4.037037</td>\n",
       "      <td>3.764706</td>\n",
       "    </tr>\n",
       "    <tr>\n",
       "      <th>std</th>\n",
       "      <td>1.89349</td>\n",
       "      <td>2.118766</td>\n",
       "      <td>2.302939</td>\n",
       "    </tr>\n",
       "    <tr>\n",
       "      <th>min</th>\n",
       "      <td>0.00000</td>\n",
       "      <td>1.000000</td>\n",
       "      <td>0.000000</td>\n",
       "    </tr>\n",
       "    <tr>\n",
       "      <th>25%</th>\n",
       "      <td>2.00000</td>\n",
       "      <td>3.000000</td>\n",
       "      <td>2.000000</td>\n",
       "    </tr>\n",
       "    <tr>\n",
       "      <th>50%</th>\n",
       "      <td>3.00000</td>\n",
       "      <td>3.500000</td>\n",
       "      <td>4.000000</td>\n",
       "    </tr>\n",
       "    <tr>\n",
       "      <th>75%</th>\n",
       "      <td>4.00000</td>\n",
       "      <td>5.000000</td>\n",
       "      <td>5.000000</td>\n",
       "    </tr>\n",
       "    <tr>\n",
       "      <th>max</th>\n",
       "      <td>10.00000</td>\n",
       "      <td>10.000000</td>\n",
       "      <td>10.000000</td>\n",
       "    </tr>\n",
       "  </tbody>\n",
       "</table>\n",
       "</div>"
      ],
      "text/plain": [
       "         attack     health       cost\n",
       "count  50.00000  54.000000  51.000000\n",
       "mean    3.08000   4.037037   3.764706\n",
       "std     1.89349   2.118766   2.302939\n",
       "min     0.00000   1.000000   0.000000\n",
       "25%     2.00000   3.000000   2.000000\n",
       "50%     3.00000   3.500000   4.000000\n",
       "75%     4.00000   5.000000   5.000000\n",
       "max    10.00000  10.000000  10.000000"
      ]
     },
     "execution_count": 7,
     "metadata": {},
     "output_type": "execute_result"
    }
   ],
   "source": [
    "mage_minions = mage[mage.type == 'Minion'][['attack', 'health', 'cost']]\n",
    "mage_minions.describe()"
   ]
  },
  {
   "cell_type": "code",
   "execution_count": 8,
   "metadata": {},
   "outputs": [
    {
     "data": {
      "text/plain": [
       "<matplotlib.axes._subplots.AxesSubplot at 0x112b70390>"
      ]
     },
     "execution_count": 8,
     "metadata": {},
     "output_type": "execute_result"
    },
    {
     "data": {
      "image/png": "[encoded data removed]",
      "text/plain": [
       "<Figure size 432x288 with 1 Axes>"
      ]
     },
     "metadata": {
      "needs_background": "light"
     },
     "output_type": "display_data"
    }
   ],
   "source": [
    "mage_minions.cost.plot.hist()"
   ]
  },
  {
   "cell_type": "code",
   "execution_count": 9,
   "metadata": {},
   "outputs": [
    {
     "data": {
      "text/plain": [
       "<matplotlib.axes._subplots.AxesSubplot at 0x114c3a048>"
      ]
     },
     "execution_count": 9,
     "metadata": {},
     "output_type": "execute_result"
    },
    {
     "data": {
      "image/png": "[encoded data removed]",
      "text/plain": [
       "<Figure size 432x288 with 1 Axes>"
      ]
     },
     "metadata": {
      "needs_background": "light"
     },
     "output_type": "display_data"
    }
   ],
   "source": [
    "mage_minions.attack.plot.hist()"
   ]
  },
  {
   "cell_type": "code",
   "execution_count": 10,
   "metadata": {},
   "outputs": [
    {
     "data": {
      "text/plain": [
       "<matplotlib.axes._subplots.AxesSubplot at 0x114d0db38>"
      ]
     },
     "execution_count": 10,
     "metadata": {},
     "output_type": "execute_result"
    },
    {
     "data": {
      "image/png": "[encoded data removed]",
      "text/plain": [
       "<Figure size 432x288 with 1 Axes>"
      ]
     },
     "metadata": {
      "needs_background": "light"
     },
     "output_type": "display_data"
    }
   ],
   "source": [
    "mage_minions.health.plot.hist()"
   ]
  }
 ],
 "metadata": {
  "kernelspec": {
   "display_name": "Python 3",
   "language": "python",
   "name": "python3"
  },
  "language_info": {
   "codemirror_mode": {
    "name": "ipython",
    "version": 3
   },
   "file_extension": ".py",
   "mimetype": "text/x-python",
   "name": "python",
   "nbconvert_exporter": "python",
   "pygments_lexer": "ipython3",
   "version": "3.6.8"
  }
 },
 "nbformat": 4,
 "nbformat_minor": 2
}
